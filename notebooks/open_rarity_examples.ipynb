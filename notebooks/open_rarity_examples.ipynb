{
 "cells": [
  {
   "cell_type": "code",
   "execution_count": null,
   "metadata": {},
   "outputs": [],
   "source": []
  }
 ],
 "metadata": {
  "kernelspec": {
   "display_name": "Python 3.10.6 64-bit ('openrarity')",
   "language": "python",
   "name": "python3"
  },
  "language_info": {
   "name": "python",
   "version": "3.10.6"
  },
  "orig_nbformat": 4,
  "vscode": {
   "interpreter": {
    "hash": "76685a31ad16fc25ca9b8b0313845b069d367eb04c8d87e831145882cb26d89a"
   }
  }
 },
 "nbformat": 4,
 "nbformat_minor": 2
}
